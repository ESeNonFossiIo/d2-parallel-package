{
 "cells": [
  {
   "cell_type": "markdown",
   "metadata": {},
   "source": [
    "# A tool to relocate libraries, and fix evil relative paths"
   ]
  },
  {
   "cell_type": "code",
   "execution_count": null,
   "metadata": {
    "collapsed": false
   },
   "outputs": [],
   "source": [
    "import os\n",
    "from subprocess import check_output as run"
   ]
  },
  {
   "cell_type": "markdown",
   "metadata": {},
   "source": [
    "## Lib object\n",
    "\n",
    "Stores the name of a library, its install name, its location and all its dependencies, as given by `otool -L`"
   ]
  },
  {
   "cell_type": "code",
   "execution_count": null,
   "metadata": {
    "collapsed": false
   },
   "outputs": [],
   "source": [
    "class Lib(object):\n",
    "    location = None\n",
    "    install_name = None\n",
    "    name = None\n",
    "    deps = None\n",
    "    def __str__(self):\n",
    "        mystr = \"\"\n",
    "        mystr +=  \"Name        :\"+str(self.name)\n",
    "        mystr +=\"\\nInstall name:\"+str(self.install_name)\n",
    "        mystr +=\"\\nLocation    :\"+str(self.location)\n",
    "        mystr +=\"\\nDeps        : ... \"\n",
    "        return mystr"
   ]
  },
  {
   "cell_type": "code",
   "execution_count": null,
   "metadata": {
    "collapsed": false
   },
   "outputs": [],
   "source": [
    "# Walk the current tree, and extract all libraries\n",
    "def get_libs():\n",
    "    libraries = []\n",
    "    basedir = run(\"pwd\")\n",
    "\n",
    "    for root, dirs, files in os.walk(\"./\"):\n",
    "        for f in files:\n",
    "            filename = os.path.join(root, f)\n",
    "            if os.path.isfile(filename) and f.endswith(\"dylib\"):\n",
    "                a = Lib()\n",
    "                a.name = f\n",
    "                a.install_name = run([\"otool\", \"-D\", filename]).split('\\n')[1]\n",
    "                a.location= basedir[0:-1]+filename[1::]\n",
    "                long_deps = run([\"otool\", \"-L\", a.location]).split('\\n')\n",
    "                a.deps = [dep.partition(' ')[0][1::] for dep in long_deps[2:-1]]\n",
    "                libraries += [a]\n",
    "    return libraries"
   ]
  },
  {
   "cell_type": "markdown",
   "metadata": {},
   "source": [
    "# Fix all install names first\n",
    "\n",
    "Some will fail, because they are either stub files, or system files..."
   ]
  },
  {
   "cell_type": "code",
   "execution_count": null,
   "metadata": {
    "collapsed": false,
    "scrolled": true
   },
   "outputs": [],
   "source": [
    "libraries = get_libs()\n",
    "c = 0\n",
    "failed = []\n",
    "for i in libraries:\n",
    "    if os.path.islink(i.location):\n",
    "        continue\n",
    "    if i.install_name != i.location:\n",
    "        try:\n",
    "            run([\"install_name_tool\",'-id',i.location, i.location])\n",
    "        except:\n",
    "            print \"Failed: \",i.name\n",
    "            failed += [c]\n",
    "    c += 1\n",
    "print failed\n",
    "print 'Removing failed libs...'\n",
    "for fail in reversed(failed):\n",
    "    del libraries[fail]"
   ]
  },
  {
   "cell_type": "markdown",
   "metadata": {},
   "source": [
    "# Fix all dependencies with absolute paths"
   ]
  },
  {
   "cell_type": "code",
   "execution_count": null,
   "metadata": {
    "collapsed": false
   },
   "outputs": [],
   "source": [
    "c = 0\n",
    "for this_lib in libraries:\n",
    "    c += 1\n",
    "    if this_lib.install_name != this_lib.location:\n",
    "        print 'Not valid:', i.name\n",
    "    else:\n",
    "        lib = this_lib.name\n",
    "        command = ['install_name_tool']\n",
    "        for dep in this_lib.deps:\n",
    "            for loc in libraries:\n",
    "                if dep.find(loc.name) != -1 and dep != loc.install_name:\n",
    "                    command += ['-change', dep, loc.install_name]\n",
    "                    break\n",
    "        try:\n",
    "            if len(command) != 1:\n",
    "                command += [this_lib.location]\n",
    "                print 'Processing', lib\n",
    "                print '======================\\n\\n'\n",
    "                print \" \".join(command)\n",
    "                print '======================\\n\\n'\n",
    "                run(command)\n",
    "        except:\n",
    "            print '\\n\\n*********************************************'\n",
    "            print 'Last command failed!'\n",
    "            print \" \".join(command)\n",
    "            print '*********************************************\\n\\n'"
   ]
  },
  {
   "cell_type": "code",
   "execution_count": null,
   "metadata": {
    "collapsed": true
   },
   "outputs": [],
   "source": []
  }
 ],
 "metadata": {
  "kernelspec": {
   "display_name": "Python 2",
   "language": "python",
   "name": "python2"
  },
  "language_info": {
   "codemirror_mode": {
    "name": "ipython",
    "version": 2
   },
   "file_extension": ".py",
   "mimetype": "text/x-python",
   "name": "python",
   "nbconvert_exporter": "python",
   "pygments_lexer": "ipython2",
   "version": "2.7.10"
  }
 },
 "nbformat": 4,
 "nbformat_minor": 0
}
